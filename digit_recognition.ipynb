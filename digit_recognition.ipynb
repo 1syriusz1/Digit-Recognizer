{
 "cells": [
  {
   "cell_type": "code",
   "execution_count": 4,
   "metadata": {},
   "outputs": [],
   "source": [
    "import numpy as np\n",
    "import pandas as pd\n",
    "from matplotlib import pyplot as plt"
   ]
  },
  {
   "cell_type": "code",
   "execution_count": 5,
   "metadata": {},
   "outputs": [],
   "source": [
    "train = pd.read_csv('train.csv')"
   ]
  },
  {
   "cell_type": "code",
   "execution_count": 6,
   "metadata": {},
   "outputs": [
    {
     "data": {
      "text/html": [
       "<div>\n",
       "<style scoped>\n",
       "    .dataframe tbody tr th:only-of-type {\n",
       "        vertical-align: middle;\n",
       "    }\n",
       "\n",
       "    .dataframe tbody tr th {\n",
       "        vertical-align: top;\n",
       "    }\n",
       "\n",
       "    .dataframe thead th {\n",
       "        text-align: right;\n",
       "    }\n",
       "</style>\n",
       "<table border=\"1\" class=\"dataframe\">\n",
       "  <thead>\n",
       "    <tr style=\"text-align: right;\">\n",
       "      <th></th>\n",
       "      <th>label</th>\n",
       "      <th>pixel0</th>\n",
       "      <th>pixel1</th>\n",
       "      <th>pixel2</th>\n",
       "      <th>pixel3</th>\n",
       "      <th>pixel4</th>\n",
       "      <th>pixel5</th>\n",
       "      <th>pixel6</th>\n",
       "      <th>pixel7</th>\n",
       "      <th>pixel8</th>\n",
       "      <th>...</th>\n",
       "      <th>pixel774</th>\n",
       "      <th>pixel775</th>\n",
       "      <th>pixel776</th>\n",
       "      <th>pixel777</th>\n",
       "      <th>pixel778</th>\n",
       "      <th>pixel779</th>\n",
       "      <th>pixel780</th>\n",
       "      <th>pixel781</th>\n",
       "      <th>pixel782</th>\n",
       "      <th>pixel783</th>\n",
       "    </tr>\n",
       "  </thead>\n",
       "  <tbody>\n",
       "    <tr>\n",
       "      <th>0</th>\n",
       "      <td>1</td>\n",
       "      <td>0</td>\n",
       "      <td>0</td>\n",
       "      <td>0</td>\n",
       "      <td>0</td>\n",
       "      <td>0</td>\n",
       "      <td>0</td>\n",
       "      <td>0</td>\n",
       "      <td>0</td>\n",
       "      <td>0</td>\n",
       "      <td>...</td>\n",
       "      <td>0</td>\n",
       "      <td>0</td>\n",
       "      <td>0</td>\n",
       "      <td>0</td>\n",
       "      <td>0</td>\n",
       "      <td>0</td>\n",
       "      <td>0</td>\n",
       "      <td>0</td>\n",
       "      <td>0</td>\n",
       "      <td>0</td>\n",
       "    </tr>\n",
       "    <tr>\n",
       "      <th>1</th>\n",
       "      <td>0</td>\n",
       "      <td>0</td>\n",
       "      <td>0</td>\n",
       "      <td>0</td>\n",
       "      <td>0</td>\n",
       "      <td>0</td>\n",
       "      <td>0</td>\n",
       "      <td>0</td>\n",
       "      <td>0</td>\n",
       "      <td>0</td>\n",
       "      <td>...</td>\n",
       "      <td>0</td>\n",
       "      <td>0</td>\n",
       "      <td>0</td>\n",
       "      <td>0</td>\n",
       "      <td>0</td>\n",
       "      <td>0</td>\n",
       "      <td>0</td>\n",
       "      <td>0</td>\n",
       "      <td>0</td>\n",
       "      <td>0</td>\n",
       "    </tr>\n",
       "    <tr>\n",
       "      <th>2</th>\n",
       "      <td>1</td>\n",
       "      <td>0</td>\n",
       "      <td>0</td>\n",
       "      <td>0</td>\n",
       "      <td>0</td>\n",
       "      <td>0</td>\n",
       "      <td>0</td>\n",
       "      <td>0</td>\n",
       "      <td>0</td>\n",
       "      <td>0</td>\n",
       "      <td>...</td>\n",
       "      <td>0</td>\n",
       "      <td>0</td>\n",
       "      <td>0</td>\n",
       "      <td>0</td>\n",
       "      <td>0</td>\n",
       "      <td>0</td>\n",
       "      <td>0</td>\n",
       "      <td>0</td>\n",
       "      <td>0</td>\n",
       "      <td>0</td>\n",
       "    </tr>\n",
       "    <tr>\n",
       "      <th>3</th>\n",
       "      <td>4</td>\n",
       "      <td>0</td>\n",
       "      <td>0</td>\n",
       "      <td>0</td>\n",
       "      <td>0</td>\n",
       "      <td>0</td>\n",
       "      <td>0</td>\n",
       "      <td>0</td>\n",
       "      <td>0</td>\n",
       "      <td>0</td>\n",
       "      <td>...</td>\n",
       "      <td>0</td>\n",
       "      <td>0</td>\n",
       "      <td>0</td>\n",
       "      <td>0</td>\n",
       "      <td>0</td>\n",
       "      <td>0</td>\n",
       "      <td>0</td>\n",
       "      <td>0</td>\n",
       "      <td>0</td>\n",
       "      <td>0</td>\n",
       "    </tr>\n",
       "    <tr>\n",
       "      <th>4</th>\n",
       "      <td>0</td>\n",
       "      <td>0</td>\n",
       "      <td>0</td>\n",
       "      <td>0</td>\n",
       "      <td>0</td>\n",
       "      <td>0</td>\n",
       "      <td>0</td>\n",
       "      <td>0</td>\n",
       "      <td>0</td>\n",
       "      <td>0</td>\n",
       "      <td>...</td>\n",
       "      <td>0</td>\n",
       "      <td>0</td>\n",
       "      <td>0</td>\n",
       "      <td>0</td>\n",
       "      <td>0</td>\n",
       "      <td>0</td>\n",
       "      <td>0</td>\n",
       "      <td>0</td>\n",
       "      <td>0</td>\n",
       "      <td>0</td>\n",
       "    </tr>\n",
       "  </tbody>\n",
       "</table>\n",
       "<p>5 rows × 785 columns</p>\n",
       "</div>"
      ],
      "text/plain": [
       "   label  pixel0  pixel1  pixel2  pixel3  pixel4  pixel5  pixel6  pixel7  \\\n",
       "0      1       0       0       0       0       0       0       0       0   \n",
       "1      0       0       0       0       0       0       0       0       0   \n",
       "2      1       0       0       0       0       0       0       0       0   \n",
       "3      4       0       0       0       0       0       0       0       0   \n",
       "4      0       0       0       0       0       0       0       0       0   \n",
       "\n",
       "   pixel8  ...  pixel774  pixel775  pixel776  pixel777  pixel778  pixel779  \\\n",
       "0       0  ...         0         0         0         0         0         0   \n",
       "1       0  ...         0         0         0         0         0         0   \n",
       "2       0  ...         0         0         0         0         0         0   \n",
       "3       0  ...         0         0         0         0         0         0   \n",
       "4       0  ...         0         0         0         0         0         0   \n",
       "\n",
       "   pixel780  pixel781  pixel782  pixel783  \n",
       "0         0         0         0         0  \n",
       "1         0         0         0         0  \n",
       "2         0         0         0         0  \n",
       "3         0         0         0         0  \n",
       "4         0         0         0         0  \n",
       "\n",
       "[5 rows x 785 columns]"
      ]
     },
     "execution_count": 6,
     "metadata": {},
     "output_type": "execute_result"
    }
   ],
   "source": [
    "train.head()"
   ]
  },
  {
   "cell_type": "code",
   "execution_count": 8,
   "metadata": {},
   "outputs": [
    {
     "name": "stdout",
     "output_type": "stream",
     "text": [
      "(42000, 785)\n"
     ]
    }
   ],
   "source": [
    "train = np.array(train)\n",
    "m, n = train.shape\n",
    "print(train.shape)\n",
    "np.random.shuffle(train) "
   ]
  },
  {
   "cell_type": "code",
   "execution_count": 9,
   "metadata": {},
   "outputs": [],
   "source": [
    "train_dev = train[0:1000].T"
   ]
  },
  {
   "cell_type": "code",
   "execution_count": 11,
   "metadata": {},
   "outputs": [
    {
     "name": "stdout",
     "output_type": "stream",
     "text": [
      "(785, 1000)\n"
     ]
    }
   ],
   "source": [
    "print(train_dev.shape)"
   ]
  },
  {
   "cell_type": "code",
   "execution_count": 12,
   "metadata": {},
   "outputs": [],
   "source": [
    "Y_dev = train_dev[0]"
   ]
  },
  {
   "cell_type": "code",
   "execution_count": 13,
   "metadata": {},
   "outputs": [
    {
     "name": "stdout",
     "output_type": "stream",
     "text": [
      "[[0. 0. 0. ... 0. 0. 0.]\n",
      " [0. 0. 0. ... 0. 0. 0.]\n",
      " [0. 0. 0. ... 0. 0. 0.]\n",
      " ...\n",
      " [0. 0. 0. ... 0. 0. 0.]\n",
      " [0. 0. 0. ... 0. 0. 0.]\n",
      " [0. 0. 0. ... 0. 0. 0.]]\n"
     ]
    }
   ],
   "source": [
    "X_dev = train_dev[1:n]\n",
    "X_dev = X_dev / 255.\n",
    "print(X_dev)"
   ]
  },
  {
   "cell_type": "code",
   "execution_count": 14,
   "metadata": {},
   "outputs": [
    {
     "name": "stdout",
     "output_type": "stream",
     "text": [
      "(784, 41000)\n",
      "41000\n"
     ]
    }
   ],
   "source": [
    "train_data = train[1000:m].T \n",
    "Y_train = train_data[0] \n",
    "X_train = train_data[1:n] \n",
    "X_train = X_train / 255.\n",
    "\n",
    "\n",
    "_,m_train = X_train.shape\n",
    "print(X_train.shape)\n",
    "print(m_train)\n"
   ]
  },
  {
   "cell_type": "code",
   "execution_count": 16,
   "metadata": {},
   "outputs": [],
   "source": [
    "def init_params():\n",
    "    W1 = np.random.rand(10, 784) - 0.5\n",
    "    W2 = np.random.rand(10, 10) - 0.5\n",
    "    b1 = np.random.rand(10, 1) - 0.5\n",
    "    b2 = np.random.rand(10, 1) - 0.5\n",
    "    return W1, b1, W2, b2\n"
   ]
  },
  {
   "cell_type": "code",
   "execution_count": 17,
   "metadata": {},
   "outputs": [],
   "source": [
    "def ReLU(Z):\n",
    "    return np.maximum(Z, 0)\n"
   ]
  },
  {
   "cell_type": "code",
   "execution_count": 18,
   "metadata": {},
   "outputs": [],
   "source": [
    "def softmax(Z):\n",
    "    A = np.exp(Z) / sum(np.exp(Z))\n",
    "    return A\n"
   ]
  },
  {
   "cell_type": "code",
   "execution_count": 19,
   "metadata": {},
   "outputs": [],
   "source": [
    "def forward_prop(W1, b1, W2, b2, X):\n",
    "    Z1 = W1.dot(X) + b1\n",
    "    A1 = ReLU(Z1)\n",
    "    Z2 = W2.dot(A1) + b2\n",
    "    A2 = softmax(Z2)\n",
    "    return Z1, A1, Z2, A2\n"
   ]
  },
  {
   "cell_type": "code",
   "execution_count": 20,
   "metadata": {},
   "outputs": [],
   "source": [
    "def ReLU_deriv(Z):\n",
    "    return Z > 0\n"
   ]
  },
  {
   "cell_type": "code",
   "execution_count": 21,
   "metadata": {},
   "outputs": [],
   "source": [
    "def one_hot(Y):\n",
    "    one_hot_Y = np.zeros((Y.size, Y.max() + 1))\n",
    "    one_hot_Y[np.arange(Y.size), Y] = 1\n",
    "    one_hot_Y = one_hot_Y.T\n",
    "    return one_hot_Y \n"
   ]
  },
  {
   "cell_type": "code",
   "execution_count": 22,
   "metadata": {},
   "outputs": [],
   "source": [
    "def backward_prop(Z1, A1, Z2, A2, W1, W2, X, Y):\n",
    "    one_hot_Y = one_hot(Y)\n",
    "    dZ2 = A2 - one_hot_Y \n",
    "    dW2 = 1 / m * dZ2.dot(A1.T)\n",
    "    db2 = 1 / m * np.sum(dZ2)\n",
    "    dZ1 = W2.T.dot(dZ2) * ReLU_deriv(Z1)\n",
    "    dW1 = 1 / m * dZ1.dot(X.T)\n",
    "    db1 = 1 / m * np.sum(dZ1)\n",
    "    return dW1, db1, dW2, db2\n"
   ]
  },
  {
   "cell_type": "code",
   "execution_count": 23,
   "metadata": {},
   "outputs": [],
   "source": [
    "def update_params(W1, b1, W2, b2, dW1, db1, dW2, db2, alpha):\n",
    "    W1 = W1 - alpha * dW1\n",
    "    b1 = b1 - alpha * db1    \n",
    "    W2 = W2 - alpha * dW2  \n",
    "    b2 = b2 - alpha * db2    \n",
    "    return W1, b1, W2, b2\n"
   ]
  },
  {
   "cell_type": "code",
   "execution_count": 26,
   "metadata": {},
   "outputs": [],
   "source": [
    "def get_predictions(A2):\n",
    "    return np.argmax(A2, 0) \n"
   ]
  },
  {
   "cell_type": "code",
   "execution_count": 27,
   "metadata": {},
   "outputs": [],
   "source": [
    "def get_accuracy(predictions, Y):\n",
    "    print(f\"prediction: {predictions}, Desired Output: {Y}\")\n",
    "    return np.sum(predictions == Y) / Y.size\n"
   ]
  },
  {
   "cell_type": "code",
   "execution_count": 28,
   "metadata": {},
   "outputs": [],
   "source": [
    "def gradient_descent(X, Y, alpha, iterations):\n",
    "    W1, b1, W2, b2 = init_params()\n",
    "    for i in range(iterations):\n",
    "        Z1, A1, Z2, A2 = forward_prop(W1, b1, W2, b2, X)\n",
    "        dW1, db1, dW2, db2 = backward_prop(Z1, A1, Z2, A2, W1, W2, X, Y)\n",
    "        W1, b1, W2, b2 = update_params(W1, b1, W2, b2, dW1, db1, dW2, db2, alpha)\n",
    "        if i % 10 == 0:\n",
    "            print(\"Iteration: \", i)\n",
    "            predictions = get_predictions(A2)\n",
    "            accuracy = get_accuracy(predictions, Y)\n",
    "            print(f\"Accuracy: {round(accuracy, 4)}\") \n",
    "            print(\"-----------------------------------------\")\n",
    "    return W1, b1, W2, b2\n"
   ]
  },
  {
   "cell_type": "code",
   "execution_count": 29,
   "metadata": {},
   "outputs": [],
   "source": [
    "def make_predictions(X, W1, b1, W2, b2):\n",
    "    _, _, _, A2 = forward_prop(W1, b1, W2, b2, X)\n",
    "    predictions = get_predictions(A2)\n",
    "    return predictions\n"
   ]
  },
  {
   "cell_type": "code",
   "execution_count": 34,
   "metadata": {},
   "outputs": [],
   "source": [
    "def test_prediction(index, W1, b1, W2, b2):\n",
    "    current_image = X_train[:, index, None]\n",
    "    prediction = make_predictions(X_train[:, index, None], W1, b1, W2, b2)\n",
    "    label = Y_train[index]\n",
    "    print(\"Predction: \", prediction)\n",
    "    print(\"Label: \", label)\n",
    "    \n",
    "    current_image = current_image.reshape((28, 28)) * 255\n",
    "    plt.gray()\n",
    "    plt.imshow(current_image, interpolation='nearest')\n",
    "    plt.show()\n"
   ]
  },
  {
   "cell_type": "code",
   "execution_count": 38,
   "metadata": {},
   "outputs": [
    {
     "name": "stdout",
     "output_type": "stream",
     "text": [
      "Iteration:  0\n",
      "prediction: [3 4 3 ... 3 1 3], Desired Output: [6 0 0 ... 7 6 2]\n",
      "Accuracy: 0.077\n",
      "-----------------------------------------\n",
      "Iteration:  10\n",
      "prediction: [7 5 2 ... 3 1 3], Desired Output: [6 0 0 ... 7 6 2]\n",
      "Accuracy: 0.0959\n",
      "-----------------------------------------\n",
      "Iteration:  20\n",
      "prediction: [7 5 2 ... 3 1 3], Desired Output: [6 0 0 ... 7 6 2]\n",
      "Accuracy: 0.1561\n",
      "-----------------------------------------\n",
      "Iteration:  30\n",
      "prediction: [7 5 2 ... 7 1 7], Desired Output: [6 0 0 ... 7 6 2]\n",
      "Accuracy: 0.2189\n",
      "-----------------------------------------\n",
      "Iteration:  40\n",
      "prediction: [7 5 3 ... 7 1 3], Desired Output: [6 0 0 ... 7 6 2]\n",
      "Accuracy: 0.2728\n",
      "-----------------------------------------\n",
      "Iteration:  50\n",
      "prediction: [7 3 3 ... 7 6 3], Desired Output: [6 0 0 ... 7 6 2]\n",
      "Accuracy: 0.335\n",
      "-----------------------------------------\n",
      "Iteration:  60\n",
      "prediction: [7 3 0 ... 7 6 3], Desired Output: [6 0 0 ... 7 6 2]\n",
      "Accuracy: 0.3977\n",
      "-----------------------------------------\n",
      "Iteration:  70\n",
      "prediction: [7 3 0 ... 7 6 3], Desired Output: [6 0 0 ... 7 6 2]\n",
      "Accuracy: 0.4563\n",
      "-----------------------------------------\n",
      "Iteration:  80\n",
      "prediction: [7 3 0 ... 7 6 3], Desired Output: [6 0 0 ... 7 6 2]\n",
      "Accuracy: 0.4993\n",
      "-----------------------------------------\n",
      "Iteration:  90\n",
      "prediction: [6 3 0 ... 7 6 3], Desired Output: [6 0 0 ... 7 6 2]\n",
      "Accuracy: 0.5301\n",
      "-----------------------------------------\n",
      "Iteration:  100\n",
      "prediction: [6 3 0 ... 7 6 2], Desired Output: [6 0 0 ... 7 6 2]\n",
      "Accuracy: 0.5556\n",
      "-----------------------------------------\n",
      "Iteration:  110\n",
      "prediction: [6 3 0 ... 7 6 2], Desired Output: [6 0 0 ... 7 6 2]\n",
      "Accuracy: 0.579\n",
      "-----------------------------------------\n",
      "Iteration:  120\n",
      "prediction: [6 3 0 ... 7 6 2], Desired Output: [6 0 0 ... 7 6 2]\n",
      "Accuracy: 0.6004\n",
      "-----------------------------------------\n",
      "Iteration:  130\n",
      "prediction: [6 3 0 ... 7 6 2], Desired Output: [6 0 0 ... 7 6 2]\n",
      "Accuracy: 0.6224\n",
      "-----------------------------------------\n",
      "Iteration:  140\n",
      "prediction: [6 3 0 ... 7 6 2], Desired Output: [6 0 0 ... 7 6 2]\n",
      "Accuracy: 0.6412\n",
      "-----------------------------------------\n",
      "Iteration:  150\n",
      "prediction: [6 3 0 ... 7 6 2], Desired Output: [6 0 0 ... 7 6 2]\n",
      "Accuracy: 0.6602\n",
      "-----------------------------------------\n",
      "Iteration:  160\n",
      "prediction: [6 3 0 ... 7 6 2], Desired Output: [6 0 0 ... 7 6 2]\n",
      "Accuracy: 0.6774\n",
      "-----------------------------------------\n",
      "Iteration:  170\n",
      "prediction: [6 3 0 ... 7 6 2], Desired Output: [6 0 0 ... 7 6 2]\n",
      "Accuracy: 0.6943\n",
      "-----------------------------------------\n",
      "Iteration:  180\n",
      "prediction: [6 3 0 ... 7 6 2], Desired Output: [6 0 0 ... 7 6 2]\n",
      "Accuracy: 0.7079\n",
      "-----------------------------------------\n",
      "Iteration:  190\n",
      "prediction: [6 3 0 ... 7 6 2], Desired Output: [6 0 0 ... 7 6 2]\n",
      "Accuracy: 0.7212\n",
      "-----------------------------------------\n",
      "Iteration:  200\n",
      "prediction: [6 3 0 ... 7 6 2], Desired Output: [6 0 0 ... 7 6 2]\n",
      "Accuracy: 0.7319\n",
      "-----------------------------------------\n",
      "Iteration:  210\n",
      "prediction: [6 3 0 ... 7 6 2], Desired Output: [6 0 0 ... 7 6 2]\n",
      "Accuracy: 0.742\n",
      "-----------------------------------------\n",
      "Iteration:  220\n",
      "prediction: [6 3 0 ... 7 6 2], Desired Output: [6 0 0 ... 7 6 2]\n",
      "Accuracy: 0.7512\n",
      "-----------------------------------------\n",
      "Iteration:  230\n",
      "prediction: [6 3 0 ... 7 6 2], Desired Output: [6 0 0 ... 7 6 2]\n",
      "Accuracy: 0.7591\n",
      "-----------------------------------------\n",
      "Iteration:  240\n",
      "prediction: [6 3 0 ... 7 6 2], Desired Output: [6 0 0 ... 7 6 2]\n",
      "Accuracy: 0.7663\n",
      "-----------------------------------------\n",
      "Iteration:  250\n",
      "prediction: [6 0 0 ... 7 6 2], Desired Output: [6 0 0 ... 7 6 2]\n",
      "Accuracy: 0.7738\n",
      "-----------------------------------------\n",
      "Iteration:  260\n",
      "prediction: [6 0 0 ... 7 6 2], Desired Output: [6 0 0 ... 7 6 2]\n",
      "Accuracy: 0.7793\n",
      "-----------------------------------------\n",
      "Iteration:  270\n",
      "prediction: [6 0 0 ... 7 6 2], Desired Output: [6 0 0 ... 7 6 2]\n",
      "Accuracy: 0.785\n",
      "-----------------------------------------\n",
      "Iteration:  280\n",
      "prediction: [6 0 0 ... 7 6 2], Desired Output: [6 0 0 ... 7 6 2]\n",
      "Accuracy: 0.7895\n",
      "-----------------------------------------\n",
      "Iteration:  290\n",
      "prediction: [6 0 0 ... 7 6 2], Desired Output: [6 0 0 ... 7 6 2]\n",
      "Accuracy: 0.7935\n",
      "-----------------------------------------\n",
      "Iteration:  300\n",
      "prediction: [6 0 0 ... 7 6 2], Desired Output: [6 0 0 ... 7 6 2]\n",
      "Accuracy: 0.7979\n",
      "-----------------------------------------\n",
      "Iteration:  310\n",
      "prediction: [6 0 0 ... 7 6 2], Desired Output: [6 0 0 ... 7 6 2]\n",
      "Accuracy: 0.8019\n",
      "-----------------------------------------\n",
      "Iteration:  320\n",
      "prediction: [6 0 0 ... 7 6 2], Desired Output: [6 0 0 ... 7 6 2]\n",
      "Accuracy: 0.8061\n",
      "-----------------------------------------\n",
      "Iteration:  330\n",
      "prediction: [6 0 0 ... 7 6 2], Desired Output: [6 0 0 ... 7 6 2]\n",
      "Accuracy: 0.8102\n",
      "-----------------------------------------\n",
      "Iteration:  340\n",
      "prediction: [6 0 0 ... 7 6 2], Desired Output: [6 0 0 ... 7 6 2]\n",
      "Accuracy: 0.8133\n",
      "-----------------------------------------\n",
      "Iteration:  350\n",
      "prediction: [6 0 0 ... 7 6 2], Desired Output: [6 0 0 ... 7 6 2]\n",
      "Accuracy: 0.8165\n",
      "-----------------------------------------\n",
      "Iteration:  360\n",
      "prediction: [6 0 0 ... 7 6 2], Desired Output: [6 0 0 ... 7 6 2]\n",
      "Accuracy: 0.819\n",
      "-----------------------------------------\n",
      "Iteration:  370\n",
      "prediction: [6 0 0 ... 7 6 2], Desired Output: [6 0 0 ... 7 6 2]\n",
      "Accuracy: 0.8214\n",
      "-----------------------------------------\n",
      "Iteration:  380\n",
      "prediction: [6 0 0 ... 7 6 2], Desired Output: [6 0 0 ... 7 6 2]\n",
      "Accuracy: 0.8244\n",
      "-----------------------------------------\n",
      "Iteration:  390\n",
      "prediction: [6 0 0 ... 7 6 2], Desired Output: [6 0 0 ... 7 6 2]\n",
      "Accuracy: 0.827\n",
      "-----------------------------------------\n",
      "Iteration:  400\n",
      "prediction: [6 0 0 ... 7 6 2], Desired Output: [6 0 0 ... 7 6 2]\n",
      "Accuracy: 0.8288\n",
      "-----------------------------------------\n",
      "Iteration:  410\n",
      "prediction: [6 0 0 ... 7 6 2], Desired Output: [6 0 0 ... 7 6 2]\n",
      "Accuracy: 0.8307\n",
      "-----------------------------------------\n",
      "Iteration:  420\n",
      "prediction: [6 0 0 ... 7 6 2], Desired Output: [6 0 0 ... 7 6 2]\n",
      "Accuracy: 0.8327\n",
      "-----------------------------------------\n",
      "Iteration:  430\n",
      "prediction: [6 0 0 ... 7 6 2], Desired Output: [6 0 0 ... 7 6 2]\n",
      "Accuracy: 0.8348\n",
      "-----------------------------------------\n",
      "Iteration:  440\n",
      "prediction: [6 0 0 ... 7 6 2], Desired Output: [6 0 0 ... 7 6 2]\n",
      "Accuracy: 0.8366\n",
      "-----------------------------------------\n",
      "Iteration:  450\n",
      "prediction: [6 0 0 ... 7 6 2], Desired Output: [6 0 0 ... 7 6 2]\n",
      "Accuracy: 0.8385\n",
      "-----------------------------------------\n",
      "Iteration:  460\n",
      "prediction: [6 0 0 ... 7 6 2], Desired Output: [6 0 0 ... 7 6 2]\n",
      "Accuracy: 0.8398\n",
      "-----------------------------------------\n",
      "Iteration:  470\n",
      "prediction: [6 0 0 ... 7 6 2], Desired Output: [6 0 0 ... 7 6 2]\n",
      "Accuracy: 0.8415\n",
      "-----------------------------------------\n",
      "Iteration:  480\n",
      "prediction: [6 0 0 ... 7 6 2], Desired Output: [6 0 0 ... 7 6 2]\n",
      "Accuracy: 0.8432\n",
      "-----------------------------------------\n",
      "Iteration:  490\n",
      "prediction: [6 0 0 ... 7 6 2], Desired Output: [6 0 0 ... 7 6 2]\n",
      "Accuracy: 0.8447\n",
      "-----------------------------------------\n",
      "Predction:  [6]\n",
      "Label:  6\n"
     ]
    },
    {
     "data": {
      "image/png": "[encoded data removed]",
      "text/plain": [
       "<Figure size 640x480 with 1 Axes>"
      ]
     },
     "metadata": {},
     "output_type": "display_data"
    },
    {
     "name": "stdout",
     "output_type": "stream",
     "text": [
      "Predction:  [0]\n",
      "Label:  0\n"
     ]
    },
    {
     "data": {
      "image/png": "[encoded data removed]",
      "text/plain": [
       "<Figure size 640x480 with 1 Axes>"
      ]
     },
     "metadata": {},
     "output_type": "display_data"
    },
    {
     "name": "stdout",
     "output_type": "stream",
     "text": [
      "Predction:  [0]\n",
      "Label:  0\n"
     ]
    },
    {
     "data": {
      "image/png": "[encoded data removed]",
      "text/plain": [
       "<Figure size 640x480 with 1 Axes>"
      ]
     },
     "metadata": {},
     "output_type": "display_data"
    },
    {
     "name": "stdout",
     "output_type": "stream",
     "text": [
      "Predction:  [8]\n",
      "Label:  8\n"
     ]
    },
    {
     "data": {
      "image/png": "[encoded data removed]",
      "text/plain": [
       "<Figure size 640x480 with 1 Axes>"
      ]
     },
     "metadata": {},
     "output_type": "display_data"
    },
    {
     "name": "stdout",
     "output_type": "stream",
     "text": [
      "Predction:  [6]\n",
      "Label:  6\n"
     ]
    },
    {
     "data": {
      "image/png": "[encoded data removed]",
      "text/plain": [
       "<Figure size 640x480 with 1 Axes>"
      ]
     },
     "metadata": {},
     "output_type": "display_data"
    },
    {
     "name": "stdout",
     "output_type": "stream",
     "text": [
      "Predction:  [9]\n",
      "Label:  9\n"
     ]
    },
    {
     "data": {
      "image/png": "[encoded data removed]",
      "text/plain": [
       "<Figure size 640x480 with 1 Axes>"
      ]
     },
     "metadata": {},
     "output_type": "display_data"
    },
    {
     "name": "stdout",
     "output_type": "stream",
     "text": [
      "Predction:  [6]\n",
      "Label:  6\n"
     ]
    },
    {
     "data": {
      "image/png": "[encoded data removed]",
      "text/plain": [
       "<Figure size 640x480 with 1 Axes>"
      ]
     },
     "metadata": {},
     "output_type": "display_data"
    },
    {
     "name": "stdout",
     "output_type": "stream",
     "text": [
      "Predction:  [1]\n",
      "Label:  1\n"
     ]
    },
    {
     "data": {
      "image/png": "[encoded data removed]",
      "text/plain": [
       "<Figure size 640x480 with 1 Axes>"
      ]
     },
     "metadata": {},
     "output_type": "display_data"
    },
    {
     "name": "stdout",
     "output_type": "stream",
     "text": [
      "Predction:  [1]\n",
      "Label:  1\n"
     ]
    },
    {
     "data": {
      "image/png": "[encoded data removed]",
      "text/plain": [
       "<Figure size 640x480 with 1 Axes>"
      ]
     },
     "metadata": {},
     "output_type": "display_data"
    },
    {
     "name": "stdout",
     "output_type": "stream",
     "text": [
      "Predction:  [1]\n",
      "Label:  1\n"
     ]
    },
    {
     "data": {
      "image/png": "[encoded data removed]",
      "text/plain": [
       "<Figure size 640x480 with 1 Axes>"
      ]
     },
     "metadata": {},
     "output_type": "display_data"
    },
    {
     "name": "stdout",
     "output_type": "stream",
     "text": [
      "Predction:  [4]\n",
      "Label:  4\n"
     ]
    },
    {
     "data": {
      "image/png": "[encoded data removed]",
      "text/plain": [
       "<Figure size 640x480 with 1 Axes>"
      ]
     },
     "metadata": {},
     "output_type": "display_data"
    }
   ],
   "source": [
    "W1, b1, W2, b2 = gradient_descent(X_train, Y_train, 0.1, 500) \n",
    "test_prediction(0, W1, b1, W2, b2)\n",
    "test_prediction(1, W1, b1, W2, b2)\n",
    "test_prediction(2, W1, b1, W2, b2)\n",
    "test_prediction(3, W1, b1, W2, b2)\n",
    "test_prediction(15, W1, b1, W2, b2)\n",
    "test_prediction(22, W1, b1, W2, b2)\n",
    "test_prediction(5, W1, b1, W2, b2)\n",
    "test_prediction(11, W1, b1, W2, b2)\n",
    "test_prediction(54, W1, b1, W2, b2)\n",
    "test_prediction(100, W1, b1, W2, b2)\n",
    "test_prediction(200, W1, b1, W2, b2)\n"
   ]
  },
  {
   "cell_type": "code",
   "execution_count": 40,
   "metadata": {},
   "outputs": [
    {
     "name": "stdout",
     "output_type": "stream",
     "text": [
      "prediction: [8 9 2 4 8 6 0 0 8 0 1 9 2 7 1 9 7 7 8 8 4 1 4 5 2 5 8 9 7 5 4 4 0 2 0 7 1\n",
      " 8 9 8 3 2 4 3 5 8 8 2 1 7 9 2 3 7 0 0 8 1 2 3 9 9 0 9 2 0 2 7 9 7 3 7 0 0\n",
      " 0 5 4 4 8 3 8 4 4 8 9 8 9 6 4 8 7 2 7 0 0 4 4 2 7 6 9 0 7 0 6 7 1 1 2 0 0\n",
      " 8 4 7 1 2 4 9 2 3 2 6 9 9 4 3 0 4 8 7 6 8 8 4 7 4 0 1 8 6 2 6 2 1 7 6 3 4\n",
      " 6 0 2 7 7 1 7 8 2 2 5 6 5 1 9 2 2 0 8 9 3 6 3 4 5 6 2 6 4 4 9 4 0 6 1 2 3\n",
      " 5 0 4 6 4 3 7 3 7 3 7 9 3 8 8 1 7 7 8 7 6 5 6 1 7 0 0 4 3 9 5 6 9 0 9 3 9\n",
      " 0 6 1 2 1 0 6 4 9 6 9 7 1 2 8 6 6 5 5 4 3 1 5 5 9 5 4 7 9 9 9 0 0 3 4 7 4\n",
      " 8 7 3 7 1 2 1 6 7 5 6 2 6 7 6 5 3 3 9 0 9 9 8 5 7 7 9 5 4 7 3 0 0 6 5 1 2\n",
      " 9 7 6 7 0 3 7 2 2 2 1 6 7 1 7 9 4 6 8 3 2 1 1 3 3 1 7 6 3 7 8 9 3 8 5 5 9\n",
      " 7 6 8 0 1 6 3 3 6 9 0 3 4 2 1 0 0 1 6 1 4 2 9 4 2 3 3 4 2 8 3 6 9 0 8 8 9\n",
      " 6 7 2 5 6 7 6 3 8 0 2 9 9 4 8 2 3 7 9 7 8 1 6 6 9 5 4 0 3 2 2 1 8 8 6 7 4\n",
      " 5 1 6 7 5 4 9 2 4 8 1 0 5 3 0 3 6 2 9 5 5 1 6 4 3 0 4 7 6 9 0 5 8 1 0 3 0\n",
      " 1 7 3 4 2 4 3 9 2 0 2 0 0 0 5 8 2 5 6 5 0 3 1 8 3 6 8 4 8 8 2 5 6 6 7 0 0\n",
      " 6 7 8 1 2 6 8 5 9 7 2 6 0 0 2 2 3 9 2 7 0 1 5 9 4 9 8 6 5 8 7 1 9 4 5 3 8\n",
      " 0 9 1 4 9 0 6 7 3 8 8 2 8 9 3 6 1 7 2 5 1 6 3 2 5 5 9 2 7 4 1 3 3 5 7 0 1\n",
      " 7 7 1 5 0 7 4 8 0 1 2 6 1 5 7 0 5 3 9 2 4 0 9 6 5 9 7 9 0 8 3 7 6 7 7 1 1\n",
      " 7 3 6 4 9 9 1 7 1 6 1 1 3 9 3 4 7 0 1 6 0 9 2 9 7 8 5 9 5 1 8 8 5 7 9 2 7\n",
      " 6 1 1 6 4 5 5 7 2 0 0 0 3 4 4 2 8 8 4 3 2 2 4 2 2 9 6 7 4 3 5 2 5 5 8 0 7\n",
      " 5 6 8 1 1 4 5 0 8 1 1 7 1 6 0 0 7 5 0 3 8 2 6 9 8 4 8 8 5 9 0 4 7 1 8 5 3\n",
      " 8 3 2 6 4 0 5 2 0 5 0 4 1 1 7 9 4 3 2 9 1 0 4 3 8 4 5 8 5 4 5 2 2 5 3 8 0\n",
      " 8 7 7 5 6 3 7 2 9 0 4 1 1 4 1 3 8 1 1 5 7 9 3 9 7 0 0 4 7 5 4 2 6 7 8 2 1\n",
      " 4 2 6 9 0 7 1 2 6 1 8 4 8 2 0 9 6 6 9 8 6 5 3 5 3 4 0 2 7 0 9 6 7 0 9 9 0\n",
      " 2 8 4 6 2 5 6 1 4 9 4 5 0 9 0 6 8 8 6 9 8 1 8 4 4 1 1 8 3 8 4 8 2 6 7 1 1\n",
      " 8 4 0 7 0 6 7 6 5 3 7 4 9 7 9 9 7 3 6 6 9 9 0 4 3 0 3 6 2 2 3 4 3 1 6 1 0\n",
      " 5 4 0 1 5 2 8 0 9 8 0 8 7 8 4 0 4 3 4 5 7 8 5 1 9 1 4 1 7 3 0 3 5 6 1 8 3\n",
      " 4 7 8 7 6 1 3 5 8 9 3 5 6 4 5 2 6 6 1 1 4 9 9 7 1 4 8 6 3 1 1 6 4 0 0 3 3\n",
      " 6 4 1 5 3 1 0 9 6 5 7 3 6 5 8 6 2 8 9 9 2 4 9 0 1 5 8 6 2 8 2 9 0 1 4 2 9\n",
      " 6], Desired Output: [5 8 2 4 8 2 0 0 8 0 1 9 2 7 8 9 7 7 8 5 4 1 4 9 2 9 7 9 7 0 9 4 0 2 0 7 1\n",
      " 8 9 8 3 2 2 3 5 8 8 2 5 7 9 2 3 7 0 0 8 1 2 3 9 9 0 9 2 0 2 7 9 7 3 7 0 0\n",
      " 0 5 4 9 8 3 8 4 4 8 2 8 9 6 4 5 7 2 7 0 0 4 4 2 7 8 9 0 7 0 6 7 1 5 2 0 0\n",
      " 8 4 7 1 2 4 9 2 3 2 6 9 5 4 8 0 4 8 7 6 2 8 4 7 4 0 1 8 6 2 6 3 1 7 6 2 4\n",
      " 6 0 2 7 2 1 7 8 2 2 5 6 5 1 9 2 2 0 8 8 3 6 3 4 6 6 2 6 4 4 7 4 0 6 1 7 3\n",
      " 3 0 4 6 4 3 7 3 7 3 7 9 3 8 8 1 7 7 8 7 6 3 4 1 5 0 0 9 3 9 5 6 9 0 9 3 9\n",
      " 0 6 1 2 1 0 6 4 9 6 9 7 1 2 8 6 6 5 5 9 2 1 5 5 9 5 4 7 9 9 9 0 0 3 4 7 2\n",
      " 8 1 3 7 1 2 1 6 7 5 6 7 6 7 6 5 8 3 9 0 9 9 4 5 7 7 4 5 2 2 3 0 0 4 5 8 2\n",
      " 9 7 6 7 0 3 7 2 2 2 1 6 7 1 7 9 4 6 8 8 2 1 1 3 3 1 7 6 8 9 8 9 3 8 5 7 9\n",
      " 7 6 8 0 1 6 3 8 6 9 0 3 9 7 1 0 0 1 6 1 4 2 9 4 2 3 3 9 2 3 8 6 9 0 8 8 9\n",
      " 5 7 2 5 6 2 6 9 8 0 2 9 9 4 8 3 3 7 9 7 9 1 6 4 9 5 4 0 5 2 2 1 3 8 8 7 4\n",
      " 7 1 6 7 7 4 9 2 4 8 1 0 5 3 0 3 6 2 9 3 5 1 6 4 3 0 4 7 4 9 0 5 3 1 0 3 0\n",
      " 1 4 3 4 2 4 3 9 2 9 2 5 0 2 5 2 2 5 6 5 0 1 8 8 3 4 8 9 8 8 2 7 6 6 7 0 0\n",
      " 6 7 8 1 2 6 8 5 4 7 2 8 0 0 2 2 3 9 2 7 0 1 5 9 4 7 8 6 5 5 7 2 4 4 3 5 8\n",
      " 0 5 1 4 9 0 6 7 3 8 8 2 8 9 3 6 1 7 2 3 1 6 3 2 5 5 8 2 7 8 7 3 3 5 7 0 1\n",
      " 7 7 1 5 0 7 4 8 0 1 2 6 1 5 5 0 5 5 9 2 4 0 9 6 5 9 7 9 0 8 5 7 6 7 7 1 1\n",
      " 7 3 6 4 9 9 1 7 1 6 1 1 3 9 3 4 7 0 1 6 0 9 2 9 7 8 5 9 5 1 8 8 1 5 9 2 7\n",
      " 4 1 1 6 9 8 5 7 2 0 0 0 5 4 4 2 8 8 4 3 2 6 2 2 2 9 6 7 4 3 5 2 5 5 8 0 7\n",
      " 5 6 8 1 1 4 5 0 8 1 1 7 1 6 0 0 7 5 0 3 8 2 6 9 0 4 8 8 5 9 0 4 7 1 8 6 3\n",
      " 8 3 2 0 4 0 5 2 0 3 0 4 1 1 7 9 4 5 2 9 1 0 4 3 8 4 5 8 5 4 5 5 2 5 3 8 6\n",
      " 8 7 9 5 6 3 7 8 9 0 4 1 1 9 1 3 8 1 1 5 7 9 3 9 7 0 0 4 7 5 4 2 6 9 8 2 1\n",
      " 4 2 6 9 0 7 7 2 6 1 8 9 8 2 0 9 6 6 9 8 6 5 3 5 7 5 0 2 7 0 9 6 7 0 3 7 0\n",
      " 2 8 4 5 2 8 6 1 4 8 4 5 0 9 0 6 6 1 6 9 8 1 2 5 4 1 1 6 3 1 4 8 2 6 7 1 1\n",
      " 8 4 0 7 0 6 7 6 5 3 7 4 9 9 9 9 7 3 6 6 9 9 0 4 3 0 3 6 2 2 3 4 3 7 6 7 0\n",
      " 5 4 0 7 5 2 8 0 9 8 0 8 7 8 9 0 4 3 4 0 7 8 3 1 9 1 4 7 7 3 0 3 5 6 1 8 3\n",
      " 3 7 2 7 6 1 2 5 8 9 8 3 6 9 3 2 6 6 1 1 4 9 9 9 1 4 4 6 5 1 1 6 4 5 0 3 3\n",
      " 6 4 3 5 3 1 0 9 6 5 7 3 6 5 8 6 6 8 9 9 2 4 9 0 1 5 8 6 2 8 2 9 0 1 4 2 9\n",
      " 6]\n",
      "Accuracy on the testing set: 0.851\n"
     ]
    }
   ],
   "source": [
    "dev_predictions = make_predictions(X_dev, W1, b1, W2, b2)\n",
    "accuracy = get_accuracy(dev_predictions, Y_dev)\n",
    "print(f\"Accuracy on the testing set: {accuracy}\")"
   ]
  },
  {
   "cell_type": "code",
   "execution_count": null,
   "metadata": {},
   "outputs": [],
   "source": []
  }
 ],
 "metadata": {
  "kernelspec": {
   "display_name": "Python 3",
   "language": "python",
   "name": "python3"
  },
  "language_info": {
   "codemirror_mode": {
    "name": "ipython",
    "version": 3
   },
   "file_extension": ".py",
   "mimetype": "text/x-python",
   "name": "python",
   "nbconvert_exporter": "python",
   "pygments_lexer": "ipython3",
   "version": "3.12.1"
  }
 },
 "nbformat": 4,
 "nbformat_minor": 2
}
